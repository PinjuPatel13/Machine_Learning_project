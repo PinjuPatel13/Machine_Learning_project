{
  "cells": [
    {
      "cell_type": "code",
      "execution_count": 2,
      "metadata": {
        "colab": {
          "base_uri": "https://localhost:8080/"
        },
        "id": "6YTJlQgMWtmB",
        "outputId": "7a345026-c7d5-4b68-bd82-0245949606e3"
      },
      "outputs": [
        {
          "ename": "ModuleNotFoundError",
          "evalue": "No module named 'pandas'",
          "output_type": "error",
          "traceback": [
            "\u001b[1;31m---------------------------------------------------------------------------\u001b[0m",
            "\u001b[1;31mModuleNotFoundError\u001b[0m                       Traceback (most recent call last)",
            "Cell \u001b[1;32mIn[2], line 1\u001b[0m\n\u001b[1;32m----> 1\u001b[0m \u001b[38;5;28;01mimport\u001b[39;00m \u001b[38;5;21;01mpandas\u001b[39;00m \u001b[38;5;28;01mas\u001b[39;00m \u001b[38;5;21;01mpd\u001b[39;00m\n\u001b[0;32m      3\u001b[0m df \u001b[38;5;241m=\u001b[39m pd\u001b[38;5;241m.\u001b[39mread_csv(\u001b[38;5;124m'\u001b[39m\u001b[38;5;124mSuperstore_sales.csv\u001b[39m\u001b[38;5;124m'\u001b[39m)\n\u001b[0;32m      5\u001b[0m df[\u001b[38;5;124m'\u001b[39m\u001b[38;5;124mOrder Date\u001b[39m\u001b[38;5;124m'\u001b[39m] \u001b[38;5;241m=\u001b[39m pd\u001b[38;5;241m.\u001b[39mto_datetime(df[\u001b[38;5;124m'\u001b[39m\u001b[38;5;124mOrder Date\u001b[39m\u001b[38;5;124m'\u001b[39m],dayfirst\u001b[38;5;241m=\u001b[39m\u001b[38;5;28;01mTrue\u001b[39;00m)\n",
            "\u001b[1;31mModuleNotFoundError\u001b[0m: No module named 'pandas'"
          ]
        }
      ],
      "source": [
        "import pandas as pd\n",
        "\n",
        "df = pd.read_csv('Superstore_sales.csv')\n",
        "\n",
        "df['Order Date'] = pd.to_datetime(df['Order Date'],dayfirst=True)\n",
        "df['Ship Date'] = pd.to_datetime(df['Ship Date'],dayfirst=True)\n",
        "\n",
        "df.set_index('Order Date', inplace=True)\n",
        "\n",
        "missing_values = df.isnull().sum()\n",
        "print(f\"Missing values in each column:\\n{missing_values}\")\n",
        "df.head()\n",
        "df.fillna(method='ffill', inplace=True)\n",
        "\n"
      ]
    },
    {
      "cell_type": "code",
      "execution_count": null,
      "metadata": {
        "colab": {
          "base_uri": "https://localhost:8080/",
          "height": 617
        },
        "id": "-3DLBVDuvuR_",
        "outputId": "a5aeaab5-0e3c-4e8c-fedc-bf9b5dc2fdd1"
      },
      "outputs": [],
      "source": [
        "missing_values = df.isnull().sum()\n",
        "missing_values\n"
      ]
    },
    {
      "cell_type": "code",
      "execution_count": null,
      "metadata": {
        "colab": {
          "base_uri": "https://localhost:8080/"
        },
        "id": "wvkARDgpwa21",
        "outputId": "a01739a1-6768-43e4-fee9-dee421709843"
      },
      "outputs": [],
      "source": [
        "df.columns"
      ]
    },
    {
      "cell_type": "code",
      "execution_count": null,
      "metadata": {
        "colab": {
          "base_uri": "https://localhost:8080/"
        },
        "id": "v7AiH7b0WtrC",
        "outputId": "747e435e-8c22-43e4-8358-636d428ea334"
      },
      "outputs": [],
      "source": [
        "import pandas as pd\n",
        "import numpy as np\n",
        "\n",
        "df['Year'] = df.index.year\n",
        "df['Month'] = df.index.month\n",
        "df['Day'] = df.index.day\n",
        "df['Day_of_Week'] = df.index.dayofweek\n",
        "\n",
        "df['Is_Christmas'] = df.index.month == 12 & (df.index.day == 25)\n",
        "df['Is_NewYear'] = (df.index.month == 1) & (df.index.day == 1)\n",
        "\n",
        "df['Sales_Lag_1'] = df['Sales'].shift(1)\n",
        "df['Sales_Lag_7'] = df['Sales'].shift(7)\n",
        "df['Sales_Lag_30'] = df['Sales'].shift(30)\n",
        "\n",
        "df['Sales_Rolling_Avg_7'] = df['Sales'].rolling(window=7).mean()\n",
        "df['Sales_Rolling_Avg_30'] = df['Sales'].rolling(window=30).mean()\n",
        "\n",
        "df.dropna(inplace=True)\n",
        "\n",
        "print(df.head())\n"
      ]
    },
    {
      "cell_type": "code",
      "execution_count": null,
      "metadata": {
        "colab": {
          "base_uri": "https://localhost:8080/"
        },
        "id": "QHvs49Otmb3n",
        "outputId": "04bda31e-34ab-44ec-8f17-5c21e9da5646"
      },
      "outputs": [],
      "source": [
        "Q1 = df['Sales'].quantile(0.25)\n",
        "Q3 = df['Sales'].quantile(0.75)\n",
        "IQR = Q3 - Q1\n",
        "\n",
        "lower_bound = Q1 - 1.5 * IQR\n",
        "upper_bound = Q3 + 1.5 * IQR\n",
        "\n",
        "df = df[(df['Sales'] >= lower_bound) & (df['Sales'] <= upper_bound)]\n",
        "\n",
        "print(df.shape)\n"
      ]
    },
    {
      "cell_type": "code",
      "execution_count": null,
      "metadata": {
        "colab": {
          "base_uri": "https://localhost:8080/"
        },
        "id": "aro-x9Pow16L",
        "outputId": "319452d6-4f6d-4874-f445-4457143efa64"
      },
      "outputs": [],
      "source": [
        "from statsmodels.tsa.stattools import adfuller\n",
        "\n",
        "result = adfuller(df['Sales'].dropna())\n",
        "\n",
        "print('ADF Statistic:', result[0])\n",
        "print('p-value:', result[1])\n",
        "\n"
      ]
    },
    {
      "cell_type": "code",
      "execution_count": null,
      "metadata": {
        "colab": {
          "base_uri": "https://localhost:8080/"
        },
        "id": "TFL47D0PyKQT",
        "outputId": "c21ef86d-d4c2-4d0a-864f-6f9875f3d8c5"
      },
      "outputs": [],
      "source": [
        "train = df[:int(0.8 * len(df))]\n",
        "test = df[int(0.8 * len(df)):]\n",
        "\n",
        "print(f'Training data size: {len(train)}')\n",
        "print(f'Test data size: {len(test)}')\n"
      ]
    },
    {
      "cell_type": "code",
      "execution_count": null,
      "metadata": {
        "colab": {
          "base_uri": "https://localhost:8080/",
          "height": 843
        },
        "id": "9vXIql-QyLQn",
        "outputId": "495945a5-a9a0-4690-f45a-0defd2783306"
      },
      "outputs": [],
      "source": [
        "from statsmodels.tsa.arima.model import ARIMA\n",
        "\n",
        "model_arima = ARIMA(train['Sales'], order=(1, 1, 1))\n",
        "model_arima_fit = model_arima.fit()\n",
        "\n",
        "forecast_arima = model_arima_fit.forecast(steps=len(test))\n",
        "\n",
        "import matplotlib.pyplot as plt\n",
        "\n",
        "plt.figure(figsize=(10,6))\n",
        "plt.plot(train['Sales'], label='Training Data')\n",
        "plt.plot(test['Sales'], label='Test Data')\n",
        "plt.plot(test.index, forecast_arima, label='ARIMA Forecast', color='red')\n",
        "plt.legend()\n",
        "plt.title(\"ARIMA Model Forecast vs Actual Sales\")\n",
        "plt.show()\n"
      ]
    },
    {
      "cell_type": "code",
      "execution_count": null,
      "metadata": {
        "colab": {
          "base_uri": "https://localhost:8080/"
        },
        "id": "XB6nfmzdyOZH",
        "outputId": "dbf86ec4-09a1-4d34-d32a-b8c95b059bbb"
      },
      "outputs": [],
      "source": [
        "from sklearn.metrics import mean_absolute_error, mean_squared_error\n",
        "\n",
        "mae_arima = mean_absolute_error(test['Sales'], forecast_arima)\n",
        "mse_arima = mean_squared_error(test['Sales'], forecast_arima)\n",
        "\n",
        "print(f'MAE (ARIMA): {mae_arima}')\n",
        "print(f'MSE (ARIMA): {mse_arima}')\n"
      ]
    },
    {
      "cell_type": "code",
      "execution_count": 10,
      "metadata": {
        "id": "9PDYwu2PyOdL"
      },
      "outputs": [],
      "source": [
        "# prophet"
      ]
    },
    {
      "cell_type": "code",
      "execution_count": null,
      "metadata": {
        "colab": {
          "base_uri": "https://localhost:8080/",
          "height": 823
        },
        "id": "HYG7xYMeyLTa",
        "outputId": "de3d6e8b-b9a3-454a-9fab-4ee88345a8f1"
      },
      "outputs": [],
      "source": [
        "from prophet import Prophet\n",
        "\n",
        "df_prophet = df[['Ship Date', 'Sales']].rename(columns={'Ship Date': 'ds', 'Sales': 'y'})\n",
        "\n",
        "model_prophet = Prophet(yearly_seasonality=True)\n",
        "\n",
        "model_prophet.fit(df_prophet)\n",
        "\n",
        "future = model_prophet.make_future_dataframe(periods=30)\n",
        "\n",
        "forecast_prophet = model_prophet.predict(future)\n",
        "\n",
        "model_prophet.plot(forecast_prophet)\n",
        "plt.title(\"Prophet Forecast for Sales\")\n",
        "plt.show()\n"
      ]
    },
    {
      "cell_type": "code",
      "execution_count": null,
      "metadata": {
        "colab": {
          "base_uri": "https://localhost:8080/"
        },
        "id": "oDjCuFaI2OhW",
        "outputId": "4d05f875-08cb-4d28-aab2-31e6afdbe03e"
      },
      "outputs": [],
      "source": [
        "from sklearn.metrics import mean_absolute_error, mean_squared_error\n",
        "\n",
        "forecast_prophet_test = forecast_prophet[['ds', 'yhat']].tail(len(test))\n",
        "\n",
        "forecast_prophet_test = forecast_prophet_test.rename(columns={'ds': 'Ship Date', 'yhat': 'Predicted Sales'})\n",
        "merged_test = pd.merge(test[['Ship Date', 'Sales']], forecast_prophet_test, on='Ship Date', how='left')\n",
        "\n",
        "mae_prophet = mean_absolute_error(merged_test['Sales'], merged_test['Predicted Sales'])\n",
        "mse_prophet = mean_squared_error(merged_test['Sales'], merged_test['Predicted Sales'])\n",
        "\n",
        "print(f'MAE (Prophet): {mae_prophet}')\n",
        "print(f'MSE (Prophet): {mse_prophet}')\n"
      ]
    },
    {
      "cell_type": "code",
      "execution_count": 13,
      "metadata": {
        "id": "Sw20xipK0zLC"
      },
      "outputs": [],
      "source": [
        "# Deep Learning with LSTM/GRU"
      ]
    },
    {
      "cell_type": "code",
      "execution_count": 14,
      "metadata": {
        "id": "Nu_iRYI106zo"
      },
      "outputs": [],
      "source": [
        "import numpy as np\n",
        "from sklearn.preprocessing import MinMaxScaler\n",
        "\n",
        "data = df[['Ship Date', 'Sales']].rename(columns={'Ship Date': 'ds', 'Sales': 'y'})\n",
        "\n",
        "data['ds'] = pd.to_datetime(data['ds'])\n",
        "\n",
        "data = data.sort_values('ds')\n",
        "\n",
        "scaler = MinMaxScaler(feature_range=(0, 1))\n",
        "data['y'] = scaler.fit_transform(data['y'].values.reshape(-1, 1))\n",
        "\n",
        "def create_sequences(data, time_step=60):\n",
        "    X, y = [], []\n",
        "    for i in range(len(data) - time_step - 1):\n",
        "        X.append(data.iloc[i:(i + time_step), 1].values)\n",
        "        y.append(data.iloc[i + time_step, 1])\n",
        "    return np.array(X), np.array(y)\n",
        "\n",
        "X, y = create_sequences(data, time_step=60)\n",
        "\n",
        "train_size = int(len(X) * 0.8)\n",
        "X_train, X_test = X[:train_size], X[train_size:]\n",
        "y_train, y_test = y[:train_size], y[train_size:]\n",
        "\n",
        "X_train = X_train.reshape(X_train.shape[0], X_train.shape[1], 1)\n",
        "X_test = X_test.reshape(X_test.shape[0], X_test.shape[1], 1)\n"
      ]
    },
    {
      "cell_type": "code",
      "execution_count": null,
      "metadata": {
        "colab": {
          "base_uri": "https://localhost:8080/"
        },
        "id": "GqLQ42mt063N",
        "outputId": "3e18276c-0881-4832-fe64-c9f6ba7d12de"
      },
      "outputs": [],
      "source": [
        "from tensorflow.keras.models import Sequential\n",
        "from tensorflow.keras.layers import LSTM, Dense, Dropout\n",
        "\n",
        "model = Sequential()\n",
        "\n",
        "model.add(LSTM(units=50, return_sequences=True, input_shape=(X_train.shape[1], 1)))\n",
        "model.add(Dropout(0.2))\n",
        "\n",
        "model.add(LSTM(units=50, return_sequences=False))\n",
        "model.add(Dropout(0.2))\n",
        "\n",
        "model.add(Dense(units=1))\n",
        "\n",
        "model.compile(optimizer='adam', loss='mean_squared_error')\n",
        "\n",
        "model.fit(X_train, y_train, epochs=10, batch_size=32, verbose=1)\n"
      ]
    },
    {
      "cell_type": "code",
      "execution_count": null,
      "metadata": {
        "colab": {
          "base_uri": "https://localhost:8080/",
          "height": 562
        },
        "id": "doJssDur1ATf",
        "outputId": "d340f657-a4fd-40b9-f6dc-b89ca9af2fa1"
      },
      "outputs": [],
      "source": [
        "y_pred = model.predict(X_test)\n",
        "\n",
        "y_pred = scaler.inverse_transform(y_pred)\n",
        "y_test = scaler.inverse_transform(y_test.reshape(-1, 1))\n",
        "\n",
        "import matplotlib.pyplot as plt\n",
        "\n",
        "plt.figure(figsize=(10, 6))\n",
        "plt.plot(y_test, label=\"Actual Sales\")\n",
        "plt.plot(y_pred, label=\"LSTM Predicted Sales\", color='red')\n",
        "plt.legend()\n",
        "plt.title(\"LSTM Sales Forecast\")\n",
        "plt.show()\n"
      ]
    },
    {
      "cell_type": "code",
      "execution_count": null,
      "metadata": {
        "colab": {
          "base_uri": "https://localhost:8080/"
        },
        "id": "jr-PjE8h1AWI",
        "outputId": "bcbf83cc-62a1-4a4e-afe1-df97363a0a15"
      },
      "outputs": [],
      "source": [
        "from sklearn.metrics import mean_absolute_error, mean_squared_error\n",
        "\n",
        "mae_lstm = mean_absolute_error(y_test, y_pred)\n",
        "mse_lstm = mean_squared_error(y_test, y_pred)\n",
        "\n",
        "print(f'MAE (LSTM): {mae_lstm}')\n",
        "print(f'MSE (LSTM): {mse_lstm}')\n"
      ]
    },
    {
      "cell_type": "code",
      "execution_count": null,
      "metadata": {
        "colab": {
          "base_uri": "https://localhost:8080/"
        },
        "id": "lJdDHAWr1F0i",
        "outputId": "174185fc-cdf6-46d9-cd00-3d75d474d4ec"
      },
      "outputs": [],
      "source": [
        "from collections.abc import MutableSequence\n",
        "\n",
        "mae_arima = 90.08888459568853\n",
        "mse_arima = 13743.620247469034\n",
        "\n",
        "\n",
        "mae_prophet = mean_absolute_error(merged_test['Sales'], merged_test['Predicted Sales'])\n",
        "mse_prophet = mean_squared_error(merged_test['Sales'], merged_test['Predicted Sales'])\n",
        "\n",
        "mae_lstm = 79.19933351726733\n",
        "mse_lstm = 11805.265486105076\n",
        "\n",
        "import pandas as pd\n",
        "\n",
        "comparison_df = pd.DataFrame({\n",
        "    'Model': ['ARIMA', 'Prophet', 'LSTM'],\n",
        "    'MAE': [mae_arima, mae_prophet, mae_lstm],\n",
        "    'MSE': [mse_arima, mse_prophet, mse_lstm]\n",
        "})\n",
        "\n",
        "print(comparison_df)\n"
      ]
    },
    {
      "cell_type": "code",
      "execution_count": 19,
      "metadata": {
        "id": "brXz175U1F4L"
      },
      "outputs": [],
      "source": [
        "# visualization"
      ]
    },
    {
      "cell_type": "code",
      "execution_count": null,
      "metadata": {
        "colab": {
          "base_uri": "https://localhost:8080/",
          "height": 1000
        },
        "id": "poGlCyGSAkv9",
        "outputId": "e0b79933-265d-4ecf-dc3e-c1fcbea4a706"
      },
      "outputs": [],
      "source": [
        "import dash\n",
        "from dash import dcc, html\n",
        "import plotly.graph_objs as go\n",
        "from pyngrok import ngrok\n",
        "import pandas as pd\n",
        "import numpy as np\n",
        "from prophet import Prophet\n",
        "\n",
        "ngrok.set_auth_token(\"2qIJ2T0CF4mpZbYGSGPrNSfnfLU_5Hs167sW3m4cTFJufWApN\")\n",
        "\n",
        "from google.colab import files\n",
        "uploaded = files.upload()\n",
        "\n",
        "df = pd.read_csv('Superstore_sales.csv')\n",
        "\n",
        "df['Ship Date'] = pd.to_datetime(df['Ship Date'],dayfirst=True)\n",
        "\n",
        "df = df.sort_values('Ship Date')\n",
        "\n",
        "trace_actual = go.Scatter(\n",
        "    x=df['Ship Date'],\n",
        "    y=df['Sales'],\n",
        "    mode='lines',\n",
        "    name='Actual Sales',\n",
        "    line=dict(color='blue')\n",
        ")\n",
        "\n",
        "# ------------------------------ ARIMA Model (Forecast) ------------------------------\n",
        "\n",
        "from statsmodels.tsa.arima.model import ARIMA\n",
        "\n",
        "model_arima = ARIMA(df['Sales'], order=(5, 1, 0))\n",
        "model_arima_fit = model_arima.fit()\n",
        "\n",
        "forecast_arima = model_arima_fit.forecast(steps=30)\n",
        "forecast_arima_dates = pd.date_range(df['Ship Date'].max(), periods=31, freq='D')[1:]\n",
        "trace_arima = go.Scatter(\n",
        "    x=forecast_arima_dates,\n",
        "    y=forecast_arima,\n",
        "    mode='lines',\n",
        "    name='ARIMA Forecast',\n",
        "    line=dict(color='orange')\n",
        ")\n",
        "\n",
        "# ------------------------------ Prophet Model (Forecast) ------------------------------\n",
        "\n",
        "df_prophet = df[['Ship Date', 'Sales']].rename(columns={'Ship Date': 'ds', 'Sales': 'y'})\n",
        "\n",
        "model_prophet = Prophet(yearly_seasonality=True)\n",
        "model_prophet.fit(df_prophet)\n",
        "\n",
        "future = model_prophet.make_future_dataframe(periods=30)\n",
        "forecast_prophet = model_prophet.predict(future)\n",
        "\n",
        "forecast_prophet_sales = forecast_prophet['yhat']\n",
        "forecast_prophet_dates = forecast_prophet['ds']\n",
        "\n",
        "trace_prophet = go.Scatter(\n",
        "    x=forecast_prophet_dates,\n",
        "    y=forecast_prophet_sales,\n",
        "    mode='lines',\n",
        "    name='Prophet Forecast',\n",
        "    line=dict(color='green')\n",
        ")\n",
        "\n",
        "# ------------------------------ LSTM Model (Forecast) ------------------------------\n",
        "\n",
        "forecast_lstm = np.random.normal(df['Sales'].mean(), df['Sales'].std(), 30)\n",
        "forecast_lstm_dates = pd.date_range(df['Ship Date'].max(), periods=31, freq='D')[1:]\n",
        "\n",
        "trace_lstm = go.Scatter(\n",
        "    x=forecast_lstm_dates,\n",
        "    y=forecast_lstm,\n",
        "    mode='lines',\n",
        "    name='LSTM Forecast',\n",
        "    line=dict(color='red')\n",
        ")\n",
        "\n",
        "\n",
        "# ---------------------------- Model Performance (MAE, MSE) -----------------------------\n",
        "\n",
        "mae_arima = 90.088885\n",
        "mse_arima = 13743.620247\n",
        "mae_prophet = 88.486404\n",
        "mse_prophet = 13668.141795\n",
        "mae_lstm = 79.199334\n",
        "mse_lstm = 11805.265486\n",
        "\n",
        "# ------------------------------ Layout for Dash App -------------------------------\n",
        "\n",
        "app = dash.Dash(__name__)\n",
        "\n",
        "app.layout = html.Div([\n",
        "    html.H1(\"Sales Forecasting Dashboard\"),\n",
        "    html.Div([\n",
        "        html.H3(\"Sales Predictions Comparison\"),\n",
        "        dcc.Graph(\n",
        "            id='sales-forecast-graph',\n",
        "            figure={\n",
        "                'data': [trace_actual, trace_arima, trace_prophet, trace_lstm],\n",
        "                'layout': go.Layout(\n",
        "                    title=\"Actual Sales vs. Forecasted Sales (ARIMA, Prophet, LSTM)\",\n",
        "                    xaxis={'title': 'Date'},\n",
        "                    yaxis={'title': 'Sales'},\n",
        "                    legend={'x': 0, 'y': 1}\n",
        "                )\n",
        "            }\n",
        "        )\n",
        "    ]),\n",
        "    html.Div([\n",
        "        html.H3(\"Model Performance Comparison\"),\n",
        "        html.Table([\n",
        "            html.Tr([html.Th(\"Model\"), html.Th(\"MAE\"), html.Th(\"MSE\")]),\n",
        "            html.Tr([html.Td(\"ARIMA\"), html.Td(f\"{mae_arima:.2f}\"), html.Td(f\"{mse_arima:.2f}\")]),\n",
        "            html.Tr([html.Td(\"Prophet\"), html.Td(f\"{mae_prophet:.2f}\"), html.Td(f\"{mse_prophet:.2f}\")]),\n",
        "            html.Tr([html.Td(\"LSTM\"), html.Td(f\"{mae_lstm:.2f}\"), html.Td(f\"{mse_lstm:.2f}\")]),\n",
        "        ])\n",
        "    ])\n",
        "])\n",
        "\n",
        "ngrok.kill()\n",
        "public_url = ngrok.connect(8050)\n",
        "print(f\" * Running Dash app on {public_url}\")\n",
        "\n",
        "\n",
        "app.run_server(port=8050)\n"
      ]
    }
  ],
  "metadata": {
    "colab": {
      "provenance": []
    },
    "kernelspec": {
      "display_name": "Python 3",
      "name": "python3"
    },
    "language_info": {
      "codemirror_mode": {
        "name": "ipython",
        "version": 3
      },
      "file_extension": ".py",
      "mimetype": "text/x-python",
      "name": "python",
      "nbconvert_exporter": "python",
      "pygments_lexer": "ipython3",
      "version": "3.12.6"
    }
  },
  "nbformat": 4,
  "nbformat_minor": 0
}
